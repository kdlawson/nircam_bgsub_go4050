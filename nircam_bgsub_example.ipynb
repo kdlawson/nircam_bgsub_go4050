{
 "cells": [
  {
   "cell_type": "code",
   "execution_count": null,
   "id": "caf23a29",
   "metadata": {
    "ExecuteTime": {
     "end_time": "2024-07-22T19:19:34.528612Z",
     "start_time": "2024-07-22T19:19:34.505079Z"
    },
    "code_folding": [
     7
    ]
   },
   "outputs": [],
   "source": [
    "from IPython.display import display, HTML\n",
    "\n",
    "def setup_display(width=95, fontsize=16):\n",
    "    \"\"\"\n",
    "    Sets window width and markdown fontsize for Jupyter notebook. Width is % of window.\n",
    "    \"\"\"\n",
    "    display(HTML(\"<style>.container { width:\"+str(width)+\"% !important; }</style>\"))\n",
    "    display(HTML(\"<style>.rendered_html { font-size: \"+str(fontsize)+\"px; }</style>\"))\n",
    "    return None\n",
    "\n",
    "setup_display()"
   ]
  },
  {
   "cell_type": "code",
   "execution_count": null,
   "id": "64c5a312",
   "metadata": {
    "ExecuteTime": {
     "end_time": "2024-07-22T19:22:48.927994Z",
     "start_time": "2024-07-22T19:22:15.665761Z"
    },
    "scrolled": false
   },
   "outputs": [],
   "source": [
    "import glob\n",
    "from spaceKLIP import database\n",
    "import os\n",
    "from nircam_bgsub import background_subtract_nircam_data\n",
    "\n",
    "base_dir = '/Users/kdlawso1/jwst/GO4050/out/'\n",
    "input_dir = f'{base_dir}aligned/'\n",
    "bgmodel_dir = f'./nominal_bgmodels/' # Directory containing the *_background0.fits and *_psf0.fits files\n",
    "\n",
    "fitsfiles = sorted(glob.glob(f'{input_dir}*calints.fits')) # Populate a list of files\n",
    "\n",
    "# Initialize the spaceKLIP database\n",
    "Database = database.Database(base_dir)\n",
    "Database.verbose = False\n",
    "Database.read_jwst_s012_data(datapaths=fitsfiles)\n",
    "\n",
    "# background subtraction will be performed on every file under Database.obs[concat]\n",
    "concat = 'JWST_NIRCAM_NRCALONG_F444W_MASKRND_MASK335R_SUB320A335R'\n",
    "\n",
    "fourier_shifted_without_padding = True # Did image alignment wrap values at edges? If so, we'll exclude these areas from our fitting\n",
    "nan_wrapped_data = True # Make any wrapped pixels NaN in the output\n",
    "\n",
    "# Carry out the background subtraction step\n",
    "Database = background_subtract_nircam_data(Database, concat, bgmodel_dir, subdir='bgsub',\n",
    "                                           fourier_shifted_without_padding=fourier_shifted_without_padding, \n",
    "                                           generate_plot=True, r_excl=100, q=5, mask_snr_threshold=2,\n",
    "                                           nan_wrapped_data=nan_wrapped_data)"
   ]
  }
 ],
 "metadata": {
  "kernelspec": {
   "display_name": "Python 3 (ipykernel)",
   "language": "python",
   "name": "python3"
  },
  "language_info": {
   "codemirror_mode": {
    "name": "ipython",
    "version": 3
   },
   "file_extension": ".py",
   "mimetype": "text/x-python",
   "name": "python",
   "nbconvert_exporter": "python",
   "pygments_lexer": "ipython3",
   "version": "3.9.17"
  }
 },
 "nbformat": 4,
 "nbformat_minor": 5
}
